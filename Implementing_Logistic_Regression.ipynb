{
  "nbformat": 4,
  "nbformat_minor": 0,
  "metadata": {
    "colab": {
      "name": "Implementing-Logistic-Regression.ipynb",
      "version": "0.3.2",
      "provenance": [],
      "include_colab_link": true
    },
    "kernelspec": {
      "display_name": "Python 2",
      "language": "python",
      "name": "python2"
    }
  },
  "cells": [
    {
      "cell_type": "markdown",
      "metadata": {
        "id": "view-in-github",
        "colab_type": "text"
      },
      "source": [
        "<a href=\"https://colab.research.google.com/github/puthusseri/Logistic/blob/master/Implementing_Logistic_Regression.ipynb\" target=\"_parent\"><img src=\"https://colab.research.google.com/assets/colab-badge.svg\" alt=\"Open In Colab\"/></a>"
      ]
    },
    {
      "metadata": {
        "id": "Q89-hf1P6rZx",
        "colab_type": "text"
      },
      "cell_type": "markdown",
      "source": [
        "# Implementing logistic regression\n",
        "\n",
        "In this assignment you will learn to implement logistic regression and apply it on a toy dataset. Logistic regression is a popular machine learning technique used for binary classification. In a binary classification problem, each input belongs to one of two classes, say 0 or 1, and the goal is to predict the correct class of each input. \n",
        "\n",
        "While logistic regression is a standard machine learning algorithm used for binary classification, it can also be thought of as a minimalistic neural network. Hence, we chose logistic regression for this exercise since it will help you understand some of the basic principles of machine learning and neural networks.\n",
        "\n",
        "#### Instructions\n",
        "-  Do not use any additional libraries other than what is already specified below\n",
        "-  Do not use loops in your code\n",
        "-  Do not edit \"Expected output\" markdown cells\n",
        "-  Use https://ai.mulearn.org/ for asking any questions you may have about this assignment\n"
      ]
    },
    {
      "metadata": {
        "id": "FnoKljcl6rZ0",
        "colab_type": "text"
      },
      "cell_type": "markdown",
      "source": [
        "### 1. Import Libraries\n",
        "For this assignment we will import the following libraries:"
      ]
    },
    {
      "metadata": {
        "id": "1CfAQpzJ6rZ2",
        "colab_type": "code",
        "colab": {}
      },
      "cell_type": "code",
      "source": [
        "#Checking out the repository to make it work with colab\n",
        "!git clone https://github.com/<your-github-username>/ai-ml-assignments.git"
      ],
      "execution_count": 0,
      "outputs": []
    },
    {
      "metadata": {
        "id": "lpz9UPd86rZ_",
        "colab_type": "code",
        "colab": {}
      },
      "cell_type": "code",
      "source": [
        "import numpy as np\n",
        "import matplotlib.pyplot as plt\n",
        "\n",
        "import sys\n",
        "sys.path.append('ai-ml-assignments')\n",
        "from utils import utils\n",
        "\n"
      ],
      "execution_count": 0,
      "outputs": []
    },
    {
      "metadata": {
        "id": "ICphdNjv6raJ",
        "colab_type": "text"
      },
      "cell_type": "markdown",
      "source": [
        "### 2. Sigmoid\n",
        "Let us start this assignment by implementing the sigmoid function: sigmoid(s) = $\\frac{1}{1+e^{-z}}$"
      ]
    },
    {
      "metadata": {
        "id": "LrgwM5kv6raR",
        "colab_type": "code",
        "colab": {}
      },
      "cell_type": "code",
      "source": [
        "def sigmoid(z):\n",
        "    \n",
        "    # Implement the sigmoid function\n",
        "    \n",
        "    # Arguments:\n",
        "    #    z: A set of values whose sigmoid needs to be computed and stored in the variable s\n",
        "    #\n",
        "    # Return value: \n",
        "    #    s: sigmoid of values in z \n",
        "    \n",
        "    # Implement the sigmoid function: s = 1/(1+e^(-z))\n",
        "    \n",
        "    s = \n",
        "    return s"
      ],
      "execution_count": 0,
      "outputs": []
    },
    {
      "metadata": {
        "id": "7jBqHGNX6raX",
        "colab_type": "text"
      },
      "cell_type": "markdown",
      "source": [
        "#### Testing\n",
        "Let us test if the sigmoid function is implemented correctly\n",
        "\n",
        "Check that for input values 10,  -5,   0,   5,  and 10 you get the expected output as given in the table below\n"
      ]
    },
    {
      "metadata": {
        "id": "83UlegbP6raZ",
        "colab_type": "code",
        "colab": {},
        "outputId": "cf33ecdb-4306-4798-dabc-64376d7a733a"
      },
      "cell_type": "code",
      "source": [
        "z = np.arange(-10,11,5)\n",
        "sig = sigmoid(z)\n",
        "print \"Input: \",z\n",
        "print \"Expected output: \",sig"
      ],
      "execution_count": 0,
      "outputs": [
        {
          "output_type": "stream",
          "text": [
            "Input:  [-10  -5   0   5  10]\n",
            "Expected output:  [4.53978687e-05 6.69285092e-03 5.00000000e-01 9.93307149e-01\n",
            " 9.99954602e-01]\n"
          ],
          "name": "stdout"
        }
      ]
    },
    {
      "metadata": {
        "id": "ecuSRHgB6rao",
        "colab_type": "text"
      },
      "cell_type": "markdown",
      "source": [
        "<table border=\"1\" class=\"dataframe\">  <thead>    <tr style=\"text-align: right;\">      <th>Input</th>      <th>Expected output</th>    </tr>  </thead>  <tbody>    <tr>      <td>-10.0</td>      <td>0.000045</td>    </tr>    <tr>      <td>-5.0</td>      <td>0.006693</td>    </tr>    <tr>      <td>0.0</td>      <td>0.500000</td>    </tr>    <tr>      <td>5.0</td>      <td>0.993307</td>    </tr>    <tr>      <td>10.0</td>      <td>0.999955</td>    </tr>  </tbody></table> "
      ]
    },
    {
      "metadata": {
        "id": "nJQLaYpm6rar",
        "colab_type": "text"
      },
      "cell_type": "markdown",
      "source": [
        "**Let us also visualize the sigmoid function**\n",
        "\n",
        "<img src=\"sigmoid.jpg\" align=\"left\" alt=\"Expected plot of sigmoid function\" title=\"Expected plot of sigmoid function\" />\n",
        "<p style=\"clear:left\">\n",
        "The sigmoid function you plot should look like the above figure.\n",
        "Run the cell below to visualize the sigmoid function you have implemented.\n",
        "</p>"
      ]
    },
    {
      "metadata": {
        "id": "vyVKsaZk6rat",
        "colab_type": "code",
        "colab": {},
        "outputId": "61448295-e37f-4dc7-dfee-aed56270c185"
      },
      "cell_type": "code",
      "source": [
        "z = np.arange(-10., 11., 1)\n",
        "sig = sigmoid(z)\n",
        "plt.plot(z,sig)\n",
        "plt.plot(z,sig,'bo')\n",
        "plt.show()"
      ],
      "execution_count": 0,
      "outputs": [
        {
          "output_type": "display_data",
          "data": {
            "image/png": "[encoded data removed]",
            "text/plain": [
              "<matplotlib.figure.Figure at 0x7f70a8120490>"
            ]
          },
          "metadata": {
            "tags": [],
            "needs_background": "light"
          }
        }
      ]
    },
    {
      "metadata": {
        "id": "SWOgxC8H6ra3",
        "colab_type": "text"
      },
      "cell_type": "markdown",
      "source": [
        "### 3. Data Representation and Parameters\n",
        "Assuming there are $m$ training samples, the pair $(x^{(i)}, \\hat{y}^{(i)})$ denote the $i^{th}$ training sample. Each training sample consists of $n$ features denoted by $x^{(i)}$ and the correponding class label $\\hat{y}^{(i)}$. For each training sample, the features $x^{(i)}$ can be thought of as an $n\\times1$ column vector. When we use $n$ features for representing an input, the number of parameters in logistic regression becomes $n+1$ where the first $n$ parameters are the weights $w$ and the last parameter is the bias term $b$. The optimal values for these parameters are determined during the training phase which consists of forward propagation and back propagation.\n",
        "\n",
        "For vectorized operations, we arrange the column vectors corresponding to all the features of the training samples in the form of a $n \\times m$ matrix $X$, the ground truth class labels as a $1 \\times m$ row vector $\\hat{y}$, and the weight parameters $w$ as a $n \\times 1$ column vector. Here is an example of three training samples each containing two features with class labels 0, 1, 0 respectively.\n",
        "$\n",
        "\\begin{align*}\n",
        "    x^{(1)} &= \\begin{bmatrix}\n",
        "           1 \\\\\n",
        "           2 \\\\\n",
        "         \\end{bmatrix};\n",
        "         &\n",
        "    x^{(2)} &= \\begin{bmatrix}\n",
        "           3 \\\\\n",
        "           4 \\\\\n",
        "         \\end{bmatrix};\n",
        "         &\n",
        "     x^{(3)} &= \\begin{bmatrix}\n",
        "       5 \\\\\n",
        "       6 \\\\\n",
        "     \\end{bmatrix}.\n",
        "     &\n",
        "     \\textrm{Then,}\\;\n",
        "     X &= \\begin{bmatrix}\n",
        "           1\\;3\\;5 \\\\\n",
        "           2\\;4\\;6\\\\\n",
        "         \\end{bmatrix},\n",
        "     &\n",
        "     \\hat y &= \\begin{bmatrix}\n",
        "           0\\;1\\;0\n",
        "         \\end{bmatrix}.\n",
        "\\end{align*}\n",
        "$\n",
        "\n",
        "The parameters to be estimated are the weights\n",
        "$\n",
        "\\begin{align*}\n",
        "     w &= \\begin{bmatrix}\n",
        "           w_1\\\\\n",
        "           w_2\\\\\n",
        "         \\end{bmatrix}, \n",
        "\\end{align*}\n",
        "$\n",
        "and the bias $b$.\n",
        "\n",
        "\n",
        " \n",
        "Use the cell below to create the parameters $w$ and $b$ and initialize them with zeros.\n"
      ]
    },
    {
      "metadata": {
        "id": "9dcWYJQo6ra5",
        "colab_type": "code",
        "colab": {}
      },
      "cell_type": "code",
      "source": [
        "def create_params(n):\n",
        "    # Create the parameters w and b and initialise them with zeros\n",
        "    \n",
        "    # Arguments:\n",
        "    #    n: number of weights\n",
        "    #\n",
        "    # Return values:\n",
        "    #    w: the weights created  \n",
        "    #    b: bias term\n",
        "    \n",
        "    # Create a numpy array w of shape (n,1) which are initialized to zeros \n",
        "    w = \n",
        "    # Initialise bias term b to zero\n",
        "    b = \n",
        "    \n",
        "    return w,b"
      ],
      "execution_count": 0,
      "outputs": []
    },
    {
      "metadata": {
        "id": "5EIiFVji6rbB",
        "colab_type": "text"
      },
      "cell_type": "markdown",
      "source": [
        "#### Testing \n",
        "Let us verify if create_params is creating the parameters correctly."
      ]
    },
    {
      "metadata": {
        "id": "I0v5IECL6rbD",
        "colab_type": "code",
        "colab": {},
        "outputId": "99c25064-349b-4822-a474-03dc4922c8ff"
      },
      "cell_type": "code",
      "source": [
        "w,b = create_params(2)\n",
        "\n",
        "print w\n",
        "print b"
      ],
      "execution_count": 0,
      "outputs": [
        {
          "output_type": "stream",
          "text": [
            "[[0.]\n",
            " [0.]]\n",
            "0.0\n"
          ],
          "name": "stdout"
        }
      ]
    },
    {
      "metadata": {
        "id": "d3k1UkbF6rbL",
        "colab_type": "text"
      },
      "cell_type": "markdown",
      "source": [
        "<table border=\"1\" class=\"dataframe\"> <thead>    <tr style=\"text-align: right;\">      <th>Expected output</th>    </tr>  </thead><tbody> <tr style=\"text-align: right;\"><td>  [ [0. ] <br/>&nbsp; [0. ] ] <br/> 0.0   </td></tr>  </tbody></table>"
      ]
    },
    {
      "metadata": {
        "id": "wbyaKThd6rbN",
        "colab_type": "text"
      },
      "cell_type": "markdown",
      "source": [
        "### 4. Forward Propagation\n",
        "  \n",
        "To train our simple neural network i.e., to estimate the parameters, we need to do forward and backward propagation. During forward propagation, you determine using a loss function how good the current value of the parameters are. The loss function for logistic regression (our simple neural network) using $m$ training samples is:\n",
        "\n",
        "$L = -\\frac{1}{m}\\sum_{i=1}^{m}\\hat y^{(i)}\\log(a^{(i)})+(1-\\hat y^{(i)})\\log(1-a^{(i)})$\n",
        "\n",
        "where $a^{(i)} = sigmoid( \\sum_{j=1}^{n} w_jx^{(i)}_j + b) $ is the activation for the i-th training sample.\n",
        "\n",
        "You have to implement the forward propagation and return the value of the activation and loss using vectorized implementations (no loops)."
      ]
    },
    {
      "metadata": {
        "id": "Gv5hjL666rbP",
        "colab_type": "code",
        "colab": {}
      },
      "cell_type": "code",
      "source": [
        "def forward_propagate(X,yhat,w,b):\n",
        "    # Implement forward propagation\n",
        "    \n",
        "    # Arguments:\n",
        "    #    X    : n features of m training samples represented as an nxm matrix\n",
        "    #    yhat : the groundtruth values for the m training samples represented as an 1xm matrix\n",
        "    #    w    : the n weight parameters\n",
        "    #    b    : the bias term b\n",
        "    #\n",
        "    # Return values:\n",
        "    #    a    : the activation of all the training samples calculated according to the formula above\n",
        "    #    loss : the loss calculated according to the formula above\n",
        "    \n",
        "    \n",
        "    # Calculate the activation using sigmoid function based on the formula above. You need to store \n",
        "    # the activation for all the training elements in an appropriate matrix.\n",
        "    a = \n",
        "    \n",
        "    # Calculate the loss using the equation for L above\n",
        "    loss = \n",
        "    \n",
        "    return a,loss"
      ],
      "execution_count": 0,
      "outputs": []
    },
    {
      "metadata": {
        "id": "yTqjbRrG6rbX",
        "colab_type": "text"
      },
      "cell_type": "markdown",
      "source": [
        "#### Testing \n",
        "To test forward and backward propagation, let us use the values below for $w, b, X,$ and $\\hat y$. Check that the activation and loss returned by the forward_propagate function matches the expected values."
      ]
    },
    {
      "metadata": {
        "id": "c_0M-I1n6rbZ",
        "colab_type": "code",
        "colab": {},
        "outputId": "ffb5f72f-6c77-45c2-8bd0-f6423ff20a6b"
      },
      "cell_type": "code",
      "source": [
        "w = np.array([[0], [1]])\n",
        "b = 2\n",
        "X = np.array([[1, 3, 5],[2, 4, 6]]) \n",
        "yhat = np.array([[1, 0, 1]])\n",
        "a,loss = forward_propagate(X,yhat,w,b)\n",
        "print a\n",
        "print loss"
      ],
      "execution_count": 0,
      "outputs": [
        {
          "output_type": "stream",
          "text": [
            "[[0.98201379 0.99752738 0.99966465]]\n",
            "2.006987006476161\n"
          ],
          "name": "stdout"
        }
      ]
    },
    {
      "metadata": {
        "id": "m-1l0xkM6rbl",
        "colab_type": "text"
      },
      "cell_type": "markdown",
      "source": [
        "<table border=\"1\" class=\"dataframe\"> <thead>    <tr style=\"text-align: right;\">      <th>Expected output</th>    </tr>  </thead><tbody> <tr style=\"text-align: right;\"><td>  [[0.98201379 0.99752738 0.99966465]] <br/>2.006987006476161</td></tr>  </tbody></table>"
      ]
    },
    {
      "metadata": {
        "id": "EGkt8SPn6rbn",
        "colab_type": "text"
      },
      "cell_type": "markdown",
      "source": [
        "### 5. Backward Propagation\n",
        "\n",
        "Now let us implement the backward propagation where you compute the derivatives of the loss function with respect to the parameters $w$ and $b$. The derivatives are given by:\n",
        "\n",
        "\\begin{align}\n",
        "\\frac{\\partial L}{\\partial w_j} &= \\frac{1}{m} \\sum_{i=1}^{m} x^{(i)}_j \\cdot (a^{(i)}-\\hat y^{(i)})\\\\\n",
        "\\frac{\\partial L}{\\partial b} &= \\frac{1}{m} \\sum_{i=1}^m (a^{(i)}-y^{(i)})\n",
        "\\end{align}\n",
        "You should write a vectorized implementation without using any loops."
      ]
    },
    {
      "metadata": {
        "id": "3kCgPUxB6rbp",
        "colab_type": "code",
        "colab": {}
      },
      "cell_type": "code",
      "source": [
        "def backward_propagate(X,yhat,a):\n",
        "    # Implement backward propagation using the equations above without using any loops\n",
        "    \n",
        "    # Arguments:\n",
        "    #    X    : n features of m training samples represented as an nxm matrix\n",
        "    #    yhat : the groundtruth values for the m training samples represented as an 1xm matrix\n",
        "    #    a    : the activation of the training samples\n",
        "    #\n",
        "    # Return values:\n",
        "    #    dw   : derivative of loss with respect to w\n",
        "    #    db   : derivative of loss with respect to b\n",
        "    \n",
        "    # Determine the number of trainining samples m from the shape of X\n",
        "    m = \n",
        "    # Calculate dw = dL/dw using the equation above without using any loops\n",
        "    dw = \n",
        "    # Calculate db = dL/db using the equation above without using any loops\n",
        "    db = \n",
        "    \n",
        "    #return derivative of loss with respect to w and b, i.e., dw and db\n",
        "    return dw,db"
      ],
      "execution_count": 0,
      "outputs": []
    },
    {
      "metadata": {
        "id": "fCHYdTYA6rbw",
        "colab_type": "text"
      },
      "cell_type": "markdown",
      "source": [
        "#### Testing \n",
        "Check that the results match the expected output."
      ]
    },
    {
      "metadata": {
        "id": "vq0zhEi-6rby",
        "colab_type": "code",
        "colab": {},
        "outputId": "77f99579-de83-4067-ec94-d5650c371f5c"
      },
      "cell_type": "code",
      "source": [
        "w = np.array([[0], [1]])\n",
        "b = 2\n",
        "X = np.array([[1, 3, 5],[2, 4, 6]]) \n",
        "yhat = np.array([[1, 0, 1]])\n",
        "dw,db = backward_propagate(X,yhat,a)\n",
        "print dw\n",
        "print db"
      ],
      "execution_count": 0,
      "outputs": [
        {
          "output_type": "stream",
          "text": [
            "[[0.99097306]\n",
            " [1.317375  ]]\n",
            "0.3264019389169358\n"
          ],
          "name": "stdout"
        }
      ]
    },
    {
      "metadata": {
        "id": "woTtH5bS6rb9",
        "colab_type": "text"
      },
      "cell_type": "markdown",
      "source": [
        "<table border=\"1\" class=\"dataframe\"> <thead>    <tr style=\"text-align: left;\">      <th>Expected output</th>    </tr>  </thead><tbody> <tr style=\"text-align: left;\"><td>  [[0.99097306]<br/>[1.317375  ]]<br/>0.3264019389169358</td></tr>  </tbody></table>"
      ]
    },
    {
      "metadata": {
        "id": "dbInGZME6rcG",
        "colab_type": "text"
      },
      "cell_type": "markdown",
      "source": [
        "### 6. Finding the optimal value for the parameters\n",
        "\n",
        "Using the forward and backward propagation that was implemented above, let us now write the function that will do gradient descent and determine the optimal value of the parameters that minimizes the loss. The gradient descent rule is:\n",
        "$ \\theta = \\theta - \\alpha \\cdot \\frac{\\partial L}{\\partial \\theta} $\n",
        "where $\\theta$ is a parameter that needs to be updated, $\\frac{\\partial L}{\\partial \\theta}$ is the gradient of  loss function $L$ with respect to $\\theta$ and $\\alpha$ is the learning rate.\n",
        "\n",
        "Let us call this function fit. It takes as arguments the input $X$, the groundtruth labels $\\hat y$, the number of iterations to run, and the learning rate. "
      ]
    },
    {
      "metadata": {
        "id": "YflUxivZ6rcJ",
        "colab_type": "code",
        "colab": {}
      },
      "cell_type": "code",
      "source": [
        "def fit(X,yhat,numiter=5000,lr=0.05,display_loss = False):\n",
        "    # Implement the fit fuction that determines optimal values for the parameters w and b using gradient descent.\n",
        "    \n",
        "    # Arguments:\n",
        "    #    X            : n features of m training samples represented as an nxm matrix\n",
        "    #    yhat         : the groundtruth values for the m training samples represented as an 1xm matrix\n",
        "    #    numiter      : number of iterations for running the gradient descent \n",
        "    #    lr           : learning rate for the gradient descent\n",
        "    #    display_loss : whether to display loss\n",
        "    #\n",
        "    # Return values:\n",
        "    #    w            : weights determined by the gradient descent\n",
        "    #    b            : bias determined by the gradient descent\n",
        "    \n",
        "    # Determine the number of features from the shape of X\n",
        "    n = \n",
        "    \n",
        "    # Create the weights and bias\n",
        "    w,b = create_params(n)\n",
        "    \n",
        "    # Iterate for numiter steps\n",
        "    for i in range(numiter):\n",
        "        \n",
        "        # Calculate activation and loss using forward propagation\n",
        "        a,loss = \n",
        "        \n",
        "        # Calculate dw and db using backward propagation\n",
        "        dw,db = \n",
        "        \n",
        "        # Calculate the updated parameters by moving a small step (lr) in the opposite direction of the gradient\n",
        "        w = w - \n",
        "        b = b - \n",
        "        \n",
        "        if display_loss and i % 100 == 0:\n",
        "            print loss\n",
        "            \n",
        "    # Return the parameters w and b\n",
        "    return w,b"
      ],
      "execution_count": 0,
      "outputs": []
    },
    {
      "metadata": {
        "id": "gnHfiojV6rcX",
        "colab_type": "text"
      },
      "cell_type": "markdown",
      "source": [
        "#### Testing \n",
        "Check that the results match the expected output."
      ]
    },
    {
      "metadata": {
        "id": "qXRkQ43Y6rca",
        "colab_type": "code",
        "colab": {},
        "outputId": "3d60bd44-7ac1-4a96-b7b0-5bcc6dbbfcf9"
      },
      "cell_type": "code",
      "source": [
        "w,b = fit(X,yhat,500,0.005,True)\n",
        "print w\n",
        "print b"
      ],
      "execution_count": 0,
      "outputs": [
        {
          "output_type": "stream",
          "text": [
            "0.6931471805599453\n",
            "0.6450579810362779\n",
            "0.6445228298368414\n",
            "0.6440564031501352\n",
            "0.6436175793664201\n",
            "[[0.02845113]\n",
            " [0.10866157]]\n",
            "0.08021044325121013\n"
          ],
          "name": "stdout"
        }
      ]
    },
    {
      "metadata": {
        "id": "IjoAbRXh6rch",
        "colab_type": "text"
      },
      "cell_type": "markdown",
      "source": [
        "<table border=\"1\" class=\"dataframe\"> <thead>    <tr style=\"text-align: left;\">      <th>Expected output</th>    </tr>  </thead><tbody> <tr style=\"text-align: left;\"><td>  \n",
        "\n",
        "0.6931471805599453<br/>\n",
        "0.6450579810362779<br/>\n",
        "0.6445228298368414<br/>\n",
        "0.6440564031501352<br/>\n",
        "0.6436175793664201<br/>\n",
        "    [[0.02845113]<br/>\n",
        " [0.10866157]] <br/>\n",
        "    0.08021044325121013\n",
        "    </td></tr>  </tbody></table>"
      ]
    },
    {
      "metadata": {
        "id": "fhbpeCTB6rcj",
        "colab_type": "text"
      },
      "cell_type": "markdown",
      "source": [
        "### 7. Inference using the learned parameters\n",
        "Finally, let us write a function that will make predictions for a new input."
      ]
    },
    {
      "metadata": {
        "id": "A0RIp7aa6rcn",
        "colab_type": "code",
        "colab": {}
      },
      "cell_type": "code",
      "source": [
        "def predict(X,w,b):\n",
        "    # Implement the function to predict the output for a new input using the learned parameters.\n",
        "    \n",
        "    # Arguments:\n",
        "    #    X    : n features of m training samples represented as an nxm matrix\n",
        "    #    w    : weights determined by the training\n",
        "    #    b    : bias determined by the training\n",
        "    #\n",
        "    # Return values:\n",
        "    #    pred : prediction for each test sample\n",
        "    \n",
        "    \n",
        "    # Determine the activation for each input test sample\n",
        "    act = \n",
        "    \n",
        "    # Since we are using a binary classifer, the output has to be either a 0 or a 1, so you need\n",
        "    # to convert the activation to a 0 or a 1.\n",
        "    pred = \n",
        "    \n",
        "    return pred"
      ],
      "execution_count": 0,
      "outputs": []
    },
    {
      "metadata": {
        "id": "F2IWCrB06rcs",
        "colab_type": "text"
      },
      "cell_type": "markdown",
      "source": [
        "#### Testing \n",
        "Check that the results match the expected output."
      ]
    },
    {
      "metadata": {
        "id": "JLrqAdDP6rcu",
        "colab_type": "code",
        "colab": {},
        "outputId": "4ff19d13-9375-4340-dee8-ebb1e5b49291"
      },
      "cell_type": "code",
      "source": [
        "w = np.array([[0], [1]])\n",
        "b = 2\n",
        "X = np.array([[1, 3, 5],[2, 4, 6]])\n",
        "pred = predict(X,w,b)\n",
        "print pred"
      ],
      "execution_count": 0,
      "outputs": [
        {
          "output_type": "stream",
          "text": [
            "[[1. 1. 1.]]\n"
          ],
          "name": "stdout"
        }
      ]
    },
    {
      "metadata": {
        "id": "N1BgqIzt6rc5",
        "colab_type": "text"
      },
      "cell_type": "markdown",
      "source": [
        "<table border=\"1\" class=\"dataframe\"> <thead>    <tr style=\"text-align: left;\">      <th>Expected output</th>    </tr>  </thead>\n",
        "    <tbody>\n",
        "        <tr style=\"text-align: left;\">\n",
        "            <td>\n",
        "                [[1. 1. 1.]]<br/>\n",
        "            </td>\n",
        "        </tr>\n",
        "    </tbody>\n",
        "</table>"
      ]
    },
    {
      "metadata": {
        "id": "VKOpiaW96rc7",
        "colab_type": "text"
      },
      "cell_type": "markdown",
      "source": [
        "### 8. Putting it all together\n",
        "\n",
        "Now let us put it all together to classify a simple dataset. Let us first create a simple dataset, split it into training and testing sets and visualise it. For this, we will use the code from http://cs231n.github.io/neural-networks-case-study/"
      ]
    },
    {
      "metadata": {
        "id": "iwlDv03i6rc8",
        "colab_type": "code",
        "colab": {},
        "outputId": "dd30adc2-8efe-4d9d-e7b6-ca3d5510a047"
      },
      "cell_type": "code",
      "source": [
        "\n",
        "X_train,yhat_train,X_test,yhat_test = utils.create_simple_dataset()"
      ],
      "execution_count": 0,
      "outputs": [
        {
          "output_type": "display_data",
          "data": {
            "image/png": "[encoded data removed]",
            "text/plain": [
              "<matplotlib.figure.Figure at 0x7f70725c7210>"
            ]
          },
          "metadata": {
            "tags": [],
            "needs_background": "light"
          }
        },
        {
          "output_type": "display_data",
          "data": {
            "image/png": "[encoded data removed]",
            "text/plain": [
              "<matplotlib.figure.Figure at 0x7f70724fd790>"
            ]
          },
          "metadata": {
            "tags": [],
            "needs_background": "light"
          }
        }
      ]
    },
    {
      "metadata": {
        "id": "nDLtSCVS6rdI",
        "colab_type": "text"
      },
      "cell_type": "markdown",
      "source": [
        "Using the training set, let us estimate the parameters and use it for prediction."
      ]
    },
    {
      "metadata": {
        "id": "qZRNTnjE6rdK",
        "colab_type": "code",
        "colab": {},
        "outputId": "bf63e8a8-6f89-41f3-a1d4-29bb8f7710ef"
      },
      "cell_type": "code",
      "source": [
        "\n",
        "w,b = fit(X_train,yhat_train,5000,0.05)\n",
        "\n",
        "res = predict(X_test,w,b)\n",
        "\n",
        "print \"Accuracy of prediction: \" + str(np.sum(res == yhat_test)/float(res.shape[1]))"
      ],
      "execution_count": 0,
      "outputs": [
        {
          "output_type": "stream",
          "text": [
            "Accuracy of prediction: 0.675\n"
          ],
          "name": "stdout"
        }
      ]
    },
    {
      "metadata": {
        "id": "okhuOdww6rdQ",
        "colab_type": "text"
      },
      "cell_type": "markdown",
      "source": [
        "Let us now visualize the classifier"
      ]
    },
    {
      "metadata": {
        "id": "Z2i9rD0h6rdS",
        "colab_type": "code",
        "colab": {},
        "outputId": "e7131343-b9f2-404c-e163-3f26ff36a490"
      },
      "cell_type": "code",
      "source": [
        "utils.vis_classifier(X_test,yhat_test,w,b,predict)"
      ],
      "execution_count": 0,
      "outputs": [
        {
          "output_type": "display_data",
          "data": {
            "image/png": "[encoded data removed]",
            "text/plain": [
              "<matplotlib.figure.Figure at 0x7f7072431e50>"
            ]
          },
          "metadata": {
            "tags": [],
            "needs_background": "light"
          }
        }
      ]
    },
    {
      "metadata": {
        "id": "ednXYeQe6rdk",
        "colab_type": "text"
      },
      "cell_type": "markdown",
      "source": [
        "### 9. Some questions for discussion\n",
        "You can ask any question you may have about this assignment in the discussion forum https://ai.mulearn.org/. Here are a couple of questions to get you started:\n",
        "\n",
        "1. https://ai.mulearn.org/t/what-is-the-intuitive-meaning-of-sigmoid-function-and-linear-decision-boundary-in-logistic-regression/70\n",
        "\n",
        "1. https://ai.mulearn.org/t/why-should-minimizing-the-loss-function-of-logistic-regression-result-in-high-accuracy-predictions/71\n",
        "\n",
        "    "
      ]
    },
    {
      "metadata": {
        "id": "Ty9uvQ3S6rdn",
        "colab_type": "code",
        "colab": {}
      },
      "cell_type": "code",
      "source": [
        ""
      ],
      "execution_count": 0,
      "outputs": []
    }
  ]
}